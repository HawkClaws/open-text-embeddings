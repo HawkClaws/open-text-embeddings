{
 "cells": [
  {
   "attachments": {},
   "cell_type": "markdown",
   "id": "278b6c63",
   "metadata": {},
   "source": [
    "# OpenAI Embeddings\n",
    "\n",
    "Setup LangChain 0.0.232. When using this or greater version of LangChain, the custom `open.text.embeddings.openai.OpenAIEmbeddings` class no longer needed.\n",
    "\n",
    "Please see the following GitHub issue for more information:\n",
    "https://github.com/hwchase17/langchain/pull/6573"
   ]
  },
  {
   "cell_type": "code",
   "execution_count": null,
   "id": "f88b9231",
   "metadata": {},
   "outputs": [],
   "source": [
    "%pip install -U langchain openai tiktoken"
   ]
  },
  {
   "cell_type": "markdown",
   "id": "1776a2be",
   "metadata": {},
   "source": [
    "Let's load the OpenAI Embedding class."
   ]
  },
  {
   "cell_type": "code",
   "execution_count": 15,
   "id": "0be1af71",
   "metadata": {},
   "outputs": [],
   "source": [
    "from open.text.embeddings.openai import OpenAIEmbeddings"
   ]
  },
  {
   "cell_type": "code",
   "execution_count": 19,
   "id": "2c66e5da",
   "metadata": {},
   "outputs": [],
   "source": [
    "embeddings = OpenAIEmbeddings(openai_api_base=\"http://localhost:8000/v1\")"
   ]
  },
  {
   "cell_type": "code",
   "execution_count": 20,
   "id": "14aefb64",
   "metadata": {},
   "outputs": [],
   "source": [
    "text = \"This is a test document.\""
   ]
  },
  {
   "cell_type": "code",
   "execution_count": 21,
   "id": "3c39ed33",
   "metadata": {},
   "outputs": [],
   "source": [
    "query_result = embeddings.embed_query(text)"
   ]
  },
  {
   "cell_type": "code",
   "execution_count": 22,
   "id": "f77b92ec",
   "metadata": {},
   "outputs": [
    {
     "data": {
      "text/plain": [
       "1024"
      ]
     },
     "execution_count": 22,
     "metadata": {},
     "output_type": "execute_result"
    }
   ],
   "source": [
    "len(query_result)"
   ]
  },
  {
   "cell_type": "code",
   "execution_count": 23,
   "id": "e3221db6",
   "metadata": {},
   "outputs": [],
   "source": [
    "doc_result = embeddings.embed_documents([text])"
   ]
  },
  {
   "cell_type": "code",
   "execution_count": 24,
   "id": "f1bca093",
   "metadata": {},
   "outputs": [
    {
     "data": {
      "text/plain": [
       "1"
      ]
     },
     "execution_count": 24,
     "metadata": {},
     "output_type": "execute_result"
    }
   ],
   "source": [
    "len(doc_result)"
   ]
  },
  {
   "cell_type": "code",
   "execution_count": 25,
   "id": "79685ea4",
   "metadata": {},
   "outputs": [
    {
     "data": {
      "text/plain": [
       "1024"
      ]
     },
     "execution_count": 25,
     "metadata": {},
     "output_type": "execute_result"
    }
   ],
   "source": [
    "len(doc_result[0])"
   ]
  },
  {
   "cell_type": "code",
   "execution_count": 26,
   "id": "7e83f051",
   "metadata": {},
   "outputs": [
    {
     "data": {
      "text/plain": [
       "False"
      ]
     },
     "execution_count": 26,
     "metadata": {},
     "output_type": "execute_result"
    }
   ],
   "source": [
    "doc_result[0] == query_result"
   ]
  },
  {
   "cell_type": "code",
   "execution_count": null,
   "id": "aaad49f8",
   "metadata": {},
   "outputs": [],
   "source": [
    "# if you are behind an explicit proxy, you can use the OPENAI_PROXY environment variable to pass through\n",
    "os.environ[\"OPENAI_PROXY\"] = \"http://proxy.yourcompany.com:8080\""
   ]
  },
  {
   "cell_type": "code",
   "execution_count": null,
   "id": "0a4af9c6",
   "metadata": {},
   "outputs": [],
   "source": []
  }
 ],
 "metadata": {
  "kernelspec": {
   "display_name": "Python 3.11.1 64-bit",
   "language": "python",
   "name": "python3"
  },
  "language_info": {
   "codemirror_mode": {
    "name": "ipython",
    "version": 3
   },
   "file_extension": ".py",
   "mimetype": "text/x-python",
   "name": "python",
   "nbconvert_exporter": "python",
   "pygments_lexer": "ipython3",
   "version": "3.10.10"
  },
  "vscode": {
   "interpreter": {
    "hash": "e971737741ff4ec9aff7dc6155a1060a59a8a6d52c757dbbe66bf8ee389494b1"
   }
  }
 },
 "nbformat": 4,
 "nbformat_minor": 5
}
